{
 "cells": [
  {
   "cell_type": "code",
   "execution_count": 1,
   "metadata": {},
   "outputs": [],
   "source": [
    "import pandas as pd\n",
    "import matplotlib.pyplot as plt\n",
    "import numpy as np\n",
    "from sklearn.ensemble import RandomForestRegressor\n",
    "from sklearn.model_selection import train_test_split"
   ]
  },
  {
   "cell_type": "code",
   "execution_count": null,
   "metadata": {},
   "outputs": [
    {
     "name": "stdout",
     "output_type": "stream",
     "text": [
      "                   Lable Name    Value  Percentage\n",
      "0                      BENIGN  2096647   83.116963\n",
      "1                    DoS Hulk   172849    6.852219\n",
      "2                        DDoS   128016    5.074913\n",
      "3                    PortScan    90819    3.600320\n",
      "4               DoS GoldenEye    10286    0.407766\n",
      "5                 FTP-Patator     5933    0.235201\n",
      "6               DoS slowloris     5385    0.213476\n",
      "7            DoS Slowhttptest     5228    0.207253\n",
      "8                 SSH-Patator     3219    0.127610\n",
      "9                         Bot     1953    0.077422\n",
      "10    Web Attack  Brute Force     1470    0.058275\n",
      "11            Web Attack  XSS      652    0.025847\n",
      "12               Infiltration       36    0.001427\n",
      "13  Web Attack  Sql Injection       21    0.000832\n",
      "14                 Heartbleed       11    0.000436\n",
      "15                          0        1    0.000040\n"
     ]
    }
   ],
   "source": [
    "df_full =  pd.read_csv(\"full_dataset.csv\")\n",
    "X = df_full.drop(columns=[\" Label\"])\n",
    "y = pd.get_dummies(df_full, columns=[\" Label\"], drop_first=False)\n"
   ]
  },
  {
   "cell_type": "code",
   "execution_count": null,
   "metadata": {},
   "outputs": [],
   "source": []
  },
  {
   "cell_type": "code",
   "execution_count": 4,
   "metadata": {},
   "outputs": [
    {
     "ename": "",
     "evalue": "",
     "output_type": "error",
     "traceback": [
      "\u001b[1;31mThe Kernel crashed while executing code in the current cell or a previous cell. \n",
      "\u001b[1;31mPlease review the code in the cell(s) to identify a possible cause of the failure. \n",
      "\u001b[1;31mClick <a href='https://aka.ms/vscodeJupyterKernelCrash'>here</a> for more info. \n",
      "\u001b[1;31mView Jupyter <a href='command:jupyter.viewOutput'>log</a> for further details."
     ]
    }
   ],
   "source": [
    "X_train, X_test, y_train, y_test = train_test_split(X, y, test_size=0.2, random_state=42)\n",
    "\n",
    "rf = RandomForestRegressor(n_estimators=100, random_state=42)\n",
    "rf.fit(X_train, y_train)"
   ]
  },
  {
   "cell_type": "code",
   "execution_count": null,
   "metadata": {},
   "outputs": [],
   "source": [
    "feature_importance = rf.feature_importances_\n",
    "\n",
    "feature_std = X.std()\n",
    "\n",
    "features_names = X.columns\n",
    "importance_df = pd.DataFrame({\n",
    "    \"Feature\": features_names,\n",
    "    \"Importance\": feature_importance,\n",
    "    \"Std dev\": feature_std\n",
    "})\n",
    "\n",
    "importance_df_sorted = importance_df.sort_values(by=\"Importance\", ascending=False)\n",
    "\n",
    "\n",
    "plt.figure(figsize=(10, 6))\n",
    "plt.barh(importance_df_sorted[\"Feature\"], importance_df_sorted[\"Importance\"], color=\"b\")\n",
    "plt.xlabel(\"Importance\")\n",
    "plt.title(\"Feature Importance\")\n",
    "plt.show()\n"
   ]
  }
 ],
 "metadata": {
  "kernelspec": {
   "display_name": "base",
   "language": "python",
   "name": "python3"
  },
  "language_info": {
   "codemirror_mode": {
    "name": "ipython",
    "version": 3
   },
   "file_extension": ".py",
   "mimetype": "text/x-python",
   "name": "python",
   "nbconvert_exporter": "python",
   "pygments_lexer": "ipython3",
   "version": "3.12.2"
  }
 },
 "nbformat": 4,
 "nbformat_minor": 2
}
