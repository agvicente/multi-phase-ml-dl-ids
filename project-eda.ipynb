{
 "cells": [
  {
   "cell_type": "code",
   "execution_count": 1,
   "metadata": {},
   "outputs": [],
   "source": [
    "import pandas as pd\n",
    "import numpy as np"
   ]
  },
  {
   "cell_type": "code",
   "execution_count": 2,
   "metadata": {},
   "outputs": [],
   "source": [
    "df_ddos =  pd.read_csv(\"database2017/TrafficLabelling/Friday-WorkingHours-Afternoon-DDos.pcap_ISCX.csv\")\n",
    "df_port_scan = pd.read_csv(\"database2017/TrafficLabelling/Friday-WorkingHours-Afternoon-PortScan.pcap_ISCX.csv\")\n",
    "df_bot = pd.read_csv(\"database2017/TrafficLabelling/Friday-WorkingHours-Morning.pcap_ISCX.csv\")\n",
    "df_benign = pd.read_csv(\"database2017/TrafficLabelling/Monday-WorkingHours.pcap_ISCX.csv\")\n",
    "df_infiltration = pd.read_csv(\"database2017/TrafficLabelling/Thursday-WorkingHours-Afternoon-Infilteration.pcap_ISCX.csv\")\n",
    "df_web_attack = pd.read_csv(\"database2017/TrafficLabelling/Thursday-WorkingHours-Morning-WebAttacks.pcap_ISCX.csv\", encoding_errors='ignore', low_memory=False)\n",
    "df_brute_force = pd.read_csv(\"database2017/TrafficLabelling/Tuesday-WorkingHours.pcap_ISCX.csv\")\n",
    "df_dos_heartbleed = pd.read_csv(\"database2017/TrafficLabelling/Wednesday-workingHours.pcap_ISCX.csv\")"
   ]
  },
  {
   "cell_type": "code",
   "execution_count": 3,
   "metadata": {},
   "outputs": [
    {
     "name": "stdout",
     "output_type": "stream",
     "text": [
      "                   Lable Name    Value  Percentage\n",
      "0                      BENIGN  2273097   72.870971\n",
      "1                    DoS Hulk   231073    7.407741\n",
      "2                    PortScan   158930    5.094980\n",
      "3                        DDoS   128027    4.104291\n",
      "4               DoS GoldenEye    10293    0.329973\n",
      "5                 FTP-Patator     7938    0.254477\n",
      "6                 SSH-Patator     5897    0.189046\n",
      "7               DoS slowloris     5796    0.185808\n",
      "8            DoS Slowhttptest     5499    0.176287\n",
      "9                         Bot     1966    0.063026\n",
      "10    Web Attack  Brute Force     1507    0.048311\n",
      "11            Web Attack  XSS      652    0.020902\n",
      "12               Infiltration       36    0.001154\n",
      "13  Web Attack  Sql Injection       21    0.000673\n",
      "14                 Heartbleed       11    0.000353\n"
     ]
    }
   ],
   "source": [
    "df_full = pd.concat([df_ddos, df_port_scan, df_bot, df_benign, df_infiltration, df_web_attack, df_brute_force, df_dos_heartbleed], axis=0)\n",
    "type_count = df_full[\" Label\"].value_counts()\n",
    "\n",
    "percents = (type_count/len(df_full)) * 100\n",
    "\n",
    "table = pd.DataFrame({\n",
    "    \"Lable Name\": type_count.index,\n",
    "    \"Value\": type_count.values,\n",
    "    \"Percentage\": percents.values\n",
    "})\n",
    "\n",
    "print(table)"
   ]
  },
  {
   "cell_type": "code",
   "execution_count": 4,
   "metadata": {},
   "outputs": [],
   "source": [
    "#Remove irrelevant features (Timestamp, Flow Id, Source and Destination Ip)\n",
    "del df_full[\" Timestamp\"]\n",
    "del df_full[\"Flow ID\"]\n",
    "del df_full[\" Source IP\"]\n",
    "del df_full[\" Destination IP\"]\n",
    "del df_full[\" Source Port\"]\n",
    "df_full.replace(['Infinity', \"infinity\", np.inf, np.Infinity], -1, inplace=True)\n",
    "df_full.replace(['NaN', np.nan, np.NAN], 0, inplace=True)\n",
    "df_full.drop_duplicates(inplace=True)\n",
    "df_full.dropna(inplace=True)"
   ]
  },
  {
   "cell_type": "code",
   "execution_count": 5,
   "metadata": {},
   "outputs": [
    {
     "name": "stdout",
     "output_type": "stream",
     "text": [
      "                   Lable Name    Value  Percentage\n",
      "0                      BENIGN  2096647   83.116963\n",
      "1                    DoS Hulk   172849    6.852219\n",
      "2                        DDoS   128016    5.074913\n",
      "3                    PortScan    90819    3.600320\n",
      "4               DoS GoldenEye    10286    0.407766\n",
      "5                 FTP-Patator     5933    0.235201\n",
      "6               DoS slowloris     5385    0.213476\n",
      "7            DoS Slowhttptest     5228    0.207253\n",
      "8                 SSH-Patator     3219    0.127610\n",
      "9                         Bot     1953    0.077422\n",
      "10    Web Attack  Brute Force     1470    0.058275\n",
      "11            Web Attack  XSS      652    0.025847\n",
      "12               Infiltration       36    0.001427\n",
      "13  Web Attack  Sql Injection       21    0.000832\n",
      "14                 Heartbleed       11    0.000436\n",
      "15                          0        1    0.000040\n"
     ]
    }
   ],
   "source": [
    "type_count = df_full[\" Label\"].value_counts()\n",
    "\n",
    "percents = (type_count/len(df_full)) * 100\n",
    "\n",
    "table = pd.DataFrame({\n",
    "    \"Lable Name\": type_count.index,\n",
    "    \"Value\": type_count.values,\n",
    "    \"Percentage\": percents.values\n",
    "})\n",
    "\n",
    "print(table)"
   ]
  },
  {
   "cell_type": "code",
   "execution_count": 6,
   "metadata": {},
   "outputs": [],
   "source": [
    "df_full.to_csv(\"full_dataset.csv\", index=False, encoding='utf-8')"
   ]
  }
 ],
 "metadata": {
  "kernelspec": {
   "display_name": "base",
   "language": "python",
   "name": "python3"
  },
  "language_info": {
   "codemirror_mode": {
    "name": "ipython",
    "version": 3
   },
   "file_extension": ".py",
   "mimetype": "text/x-python",
   "name": "python",
   "nbconvert_exporter": "python",
   "pygments_lexer": "ipython3",
   "version": "3.12.2"
  }
 },
 "nbformat": 4,
 "nbformat_minor": 2
}
